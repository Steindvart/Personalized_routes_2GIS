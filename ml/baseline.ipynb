{
 "cells": [
  {
   "cell_type": "markdown",
   "metadata": {
    "id": "jAGxHH-U1X13"
   },
   "source": [
    "# Мэтчинг"
   ]
  },
  {
   "cell_type": "markdown",
   "metadata": {},
   "source": [
    "## Это всего лишь пример работы, которую нужно будет выполнить. Здесь разработана базовая модель для задачи мэтчинга и обучена на данных маркетплейса. Когда определимся с набором данных, я просто подсуну их этой модели и буду ее настраивать и тестировать."
   ]
  },
  {
   "cell_type": "markdown",
   "metadata": {
    "id": "HSMfIEFH1X14"
   },
   "source": [
    "В рамках проекта стоит задача определить пять наиболее близких по параметрам товаров на обезличенных данных от одного из крупнейших маркетплейсов страны.\n",
    "\n",
    "**Описание данных**\\\n",
    "Для работы мы имеем 4 набра данных:\n",
    "- base: Основной набор данных, который содержит всю имеющуюся базу товаров, где товары не размечены.\n",
    "- train: Обучающий датасет, имеет разметку в виде наиболее схожего товара из перечня всей базы товаров.\n",
    "- validation: Необходим для финального тестирования, имеет отдельно предоставленную разметку.\n",
    "- validation_answer: Разметка для набора данных validation."
   ]
  },
  {
   "cell_type": "markdown",
   "metadata": {
    "id": "mTNE_4wdqeQG"
   },
   "source": [
    "## 1. Установим необходимые компоненты и проведем импорты"
   ]
  },
  {
   "cell_type": "code",
   "execution_count": 1,
   "metadata": {
    "colab": {
     "base_uri": "https://localhost:8080/"
    },
    "executionInfo": {
     "elapsed": 69026,
     "status": "ok",
     "timestamp": 1715073563334,
     "user": {
      "displayName": "Fedor Konovalenko",
      "userId": "16758494924099257201"
     },
     "user_tz": -180
    },
    "id": "80z4G-sNB-yM",
    "outputId": "ebf196be-cad7-4a74-db7f-318fe37d85f7"
   },
   "outputs": [
    {
     "name": "stdout",
     "output_type": "stream",
     "text": [
      "Reading package lists...\n",
      "Building dependency tree...\n",
      "Reading state information...\n",
      "The following additional packages will be installed:\n",
      "  libomp-14-dev libomp5-14\n",
      "Suggested packages:\n",
      "  libomp-14-doc\n",
      "The following NEW packages will be installed:\n",
      "  libomp-14-dev libomp-dev libomp5-14\n",
      "0 upgraded, 3 newly installed, 0 to remove and 45 not upgraded.\n",
      "Need to get 738 kB of archives.\n",
      "After this operation, 8,991 kB of additional disk space will be used.\n",
      "Get:1 http://archive.ubuntu.com/ubuntu jammy-updates/universe amd64 libomp5-14 amd64 1:14.0.0-1ubuntu1.1 [389 kB]\n",
      "Get:2 http://archive.ubuntu.com/ubuntu jammy-updates/universe amd64 libomp-14-dev amd64 1:14.0.0-1ubuntu1.1 [347 kB]\n",
      "Get:3 http://archive.ubuntu.com/ubuntu jammy/universe amd64 libomp-dev amd64 1:14.0-55~exp2 [3,074 B]\n",
      "Fetched 738 kB in 1s (788 kB/s)\n",
      "Selecting previously unselected package libomp5-14:amd64.\n",
      "(Reading database ... 121920 files and directories currently installed.)\n",
      "Preparing to unpack .../libomp5-14_1%3a14.0.0-1ubuntu1.1_amd64.deb ...\n",
      "Unpacking libomp5-14:amd64 (1:14.0.0-1ubuntu1.1) ...\n",
      "Selecting previously unselected package libomp-14-dev.\n",
      "Preparing to unpack .../libomp-14-dev_1%3a14.0.0-1ubuntu1.1_amd64.deb ...\n",
      "Unpacking libomp-14-dev (1:14.0.0-1ubuntu1.1) ...\n",
      "Selecting previously unselected package libomp-dev:amd64.\n",
      "Preparing to unpack .../libomp-dev_1%3a14.0-55~exp2_amd64.deb ...\n",
      "Unpacking libomp-dev:amd64 (1:14.0-55~exp2) ...\n",
      "Setting up libomp5-14:amd64 (1:14.0.0-1ubuntu1.1) ...\n",
      "Setting up libomp-14-dev (1:14.0.0-1ubuntu1.1) ...\n",
      "Setting up libomp-dev:amd64 (1:14.0-55~exp2) ...\n",
      "Processing triggers for libc-bin (2.35-0ubuntu3.4) ...\n",
      "/sbin/ldconfig.real: /usr/local/lib/libtbbbind_2_5.so.3 is not a symbolic link\n",
      "\n",
      "/sbin/ldconfig.real: /usr/local/lib/libtbbbind_2_0.so.3 is not a symbolic link\n",
      "\n",
      "/sbin/ldconfig.real: /usr/local/lib/libtbbmalloc.so.2 is not a symbolic link\n",
      "\n",
      "/sbin/ldconfig.real: /usr/local/lib/libtbb.so.12 is not a symbolic link\n",
      "\n",
      "/sbin/ldconfig.real: /usr/local/lib/libtbbmalloc_proxy.so.2 is not a symbolic link\n",
      "\n",
      "/sbin/ldconfig.real: /usr/local/lib/libtbbbind.so.3 is not a symbolic link\n",
      "\n",
      "\u001b[2K     \u001b[90m━━━━━━━━━━━━━━━━━━━━━━━━━━━━━━━━━━━━━━━━\u001b[0m \u001b[32m27.0/27.0 MB\u001b[0m \u001b[31m112.7 MB/s\u001b[0m eta \u001b[36m0:00:00\u001b[0m\n",
      "\u001b[2K     \u001b[90m━━━━━━━━━━━━━━━━━━━━━━━━━━━━━━━━━━━━━━━━\u001b[0m \u001b[32m85.5/85.5 MB\u001b[0m \u001b[31m7.7 MB/s\u001b[0m eta \u001b[36m0:00:00\u001b[0m\n",
      "\u001b[2K     \u001b[90m━━━━━━━━━━━━━━━━━━━━━━━━━━━━━━━━━━━━━━━━\u001b[0m \u001b[32m380.1/380.1 kB\u001b[0m \u001b[31m5.7 MB/s\u001b[0m eta \u001b[36m0:00:00\u001b[0m\n",
      "\u001b[2K     \u001b[90m━━━━━━━━━━━━━━━━━━━━━━━━━━━━━━━━━━━━━━━━\u001b[0m \u001b[32m233.4/233.4 kB\u001b[0m \u001b[31m9.9 MB/s\u001b[0m eta \u001b[36m0:00:00\u001b[0m\n",
      "\u001b[2K     \u001b[90m━━━━━━━━━━━━━━━━━━━━━━━━━━━━━━━━━━━━━━━━\u001b[0m \u001b[32m78.8/78.8 kB\u001b[0m \u001b[31m7.7 MB/s\u001b[0m eta \u001b[36m0:00:00\u001b[0m\n",
      "\u001b[?25h"
     ]
    }
   ],
   "source": [
    "!apt -q install libomp-dev\n",
    "!pip -q install faiss-cpu --no-cache\n",
    "!pip -q install faiss-gpu\n",
    "!pip -q install optuna"
   ]
  },
  {
   "cell_type": "code",
   "execution_count": 2,
   "metadata": {
    "executionInfo": {
     "elapsed": 2860,
     "status": "ok",
     "timestamp": 1715073572397,
     "user": {
      "displayName": "Fedor Konovalenko",
      "userId": "16758494924099257201"
     },
     "user_tz": -180
    },
    "id": "J2IUcgpnAKAR"
   },
   "outputs": [],
   "source": [
    "import pandas as pd\n",
    "import matplotlib.pyplot as plt\n",
    "import seaborn as sns\n",
    "\n",
    "from sklearn.preprocessing import RobustScaler\n",
    "from sklearn.model_selection import train_test_split\n",
    "\n",
    "from sklearn.cluster import KMeans\n",
    "from sklearn.neighbors import NearestNeighbors\n",
    "\n",
    "from sklearn.metrics import silhouette_score\n",
    "import numpy as np\n",
    "from tqdm import tqdm\n",
    "from sklearn.decomposition import PCA\n",
    "\n",
    "import faiss\n",
    "import time\n",
    "\n",
    "import optuna"
   ]
  },
  {
   "cell_type": "code",
   "execution_count": 3,
   "metadata": {
    "executionInfo": {
     "elapsed": 641,
     "status": "ok",
     "timestamp": 1715073775814,
     "user": {
      "displayName": "Fedor Konovalenko",
      "userId": "16758494924099257201"
     },
     "user_tz": -180
    },
    "id": "zru9I5DgXOto"
   },
   "outputs": [],
   "source": [
    "import requests\n",
    "import os\n",
    "from urllib.parse import urlencode\n",
    "import zipfile"
   ]
  },
  {
   "cell_type": "code",
   "execution_count": 4,
   "metadata": {
    "executionInfo": {
     "elapsed": 3,
     "status": "ok",
     "timestamp": 1715073778261,
     "user": {
      "displayName": "Fedor Konovalenko",
      "userId": "16758494924099257201"
     },
     "user_tz": -180
    },
    "id": "3eZT6HtVXHCh"
   },
   "outputs": [],
   "source": [
    "def downloader(size: str='small'):\n",
    "    if size not in ['small', 'large']:\n",
    "        raise Exception('Unknown Argument')\n",
    "    elif size == 'small':\n",
    "        public_key = 'https://disk.yandex.ru/d/YQElc_cNQQLSOw'\n",
    "    else:\n",
    "        public_key = 'https://disk.yandex.ru/d/BBEphK0EHSJ5Jw'\n",
    "\n",
    "    base_url = 'https://cloud-api.yandex.net/v1/disk/public/resources/download?'\n",
    "\n",
    "    final_url = base_url + urlencode(dict(public_key=public_key))\n",
    "    response = requests.get(final_url)\n",
    "    download_url = response.json()['href']\n",
    "\n",
    "    download_response = requests.get(download_url)\n",
    "    with open('/content/data.zip', 'wb') as f:\n",
    "        f.write(download_response.content)\n",
    "\n",
    "    zip_path = ('/content/data.zip')\n",
    "\n",
    "    with zipfile.ZipFile(zip_path, 'r') as zip_ref:\n",
    "        zip_ref.extractall()"
   ]
  },
  {
   "cell_type": "code",
   "execution_count": 5,
   "metadata": {
    "executionInfo": {
     "elapsed": 13181,
     "status": "ok",
     "timestamp": 1715073802309,
     "user": {
      "displayName": "Fedor Konovalenko",
      "userId": "16758494924099257201"
     },
     "user_tz": -180
    },
    "id": "f1XYiCJzXQhl"
   },
   "outputs": [],
   "source": [
    "downloader('small')"
   ]
  },
  {
   "cell_type": "markdown",
   "metadata": {
    "id": "YDsjTmnA1X16"
   },
   "source": [
    "## 2. Исследование и знакомство с данными"
   ]
  },
  {
   "cell_type": "code",
   "execution_count": 6,
   "metadata": {
    "executionInfo": {
     "elapsed": 8205,
     "status": "ok",
     "timestamp": 1715073829281,
     "user": {
      "displayName": "Fedor Konovalenko",
      "userId": "16758494924099257201"
     },
     "user_tz": -180
    },
    "id": "kclSq6hB_8Q-"
   },
   "outputs": [],
   "source": [
    "base = pd.read_csv(\"/content/base.csv\", index_col=\"Id\")"
   ]
  },
  {
   "cell_type": "code",
   "execution_count": 7,
   "metadata": {
    "colab": {
     "base_uri": "https://localhost:8080/",
     "height": 374
    },
    "executionInfo": {
     "elapsed": 10,
     "status": "ok",
     "timestamp": 1715073831565,
     "user": {
      "displayName": "Fedor Konovalenko",
      "userId": "16758494924099257201"
     },
     "user_tz": -180
    },
    "id": "2mwPYzfxAoi6",
    "outputId": "bd074b14-9be0-4bc1-f53e-6cddff24b1f9"
   },
   "outputs": [
    {
     "data": {
      "application/vnd.google.colaboratory.intrinsic+json": {
       "type": "dataframe",
       "variable_name": "base"
      },
      "text/html": [
       "\n",
       "  <div id=\"df-99eff48c-16a9-427b-b4d8-380c2ecbb567\" class=\"colab-df-container\">\n",
       "    <div>\n",
       "<style scoped>\n",
       "    .dataframe tbody tr th:only-of-type {\n",
       "        vertical-align: middle;\n",
       "    }\n",
       "\n",
       "    .dataframe tbody tr th {\n",
       "        vertical-align: top;\n",
       "    }\n",
       "\n",
       "    .dataframe thead th {\n",
       "        text-align: right;\n",
       "    }\n",
       "</style>\n",
       "<table border=\"1\" class=\"dataframe\">\n",
       "  <thead>\n",
       "    <tr style=\"text-align: right;\">\n",
       "      <th></th>\n",
       "      <th>0</th>\n",
       "      <th>1</th>\n",
       "      <th>2</th>\n",
       "      <th>3</th>\n",
       "      <th>4</th>\n",
       "      <th>5</th>\n",
       "      <th>6</th>\n",
       "      <th>7</th>\n",
       "      <th>8</th>\n",
       "      <th>9</th>\n",
       "      <th>...</th>\n",
       "      <th>62</th>\n",
       "      <th>63</th>\n",
       "      <th>64</th>\n",
       "      <th>65</th>\n",
       "      <th>66</th>\n",
       "      <th>67</th>\n",
       "      <th>68</th>\n",
       "      <th>69</th>\n",
       "      <th>70</th>\n",
       "      <th>71</th>\n",
       "    </tr>\n",
       "    <tr>\n",
       "      <th>Id</th>\n",
       "      <th></th>\n",
       "      <th></th>\n",
       "      <th></th>\n",
       "      <th></th>\n",
       "      <th></th>\n",
       "      <th></th>\n",
       "      <th></th>\n",
       "      <th></th>\n",
       "      <th></th>\n",
       "      <th></th>\n",
       "      <th></th>\n",
       "      <th></th>\n",
       "      <th></th>\n",
       "      <th></th>\n",
       "      <th></th>\n",
       "      <th></th>\n",
       "      <th></th>\n",
       "      <th></th>\n",
       "      <th></th>\n",
       "      <th></th>\n",
       "      <th></th>\n",
       "    </tr>\n",
       "  </thead>\n",
       "  <tbody>\n",
       "    <tr>\n",
       "      <th>4207931-base</th>\n",
       "      <td>-43.946243</td>\n",
       "      <td>15.364378</td>\n",
       "      <td>17.515854</td>\n",
       "      <td>-132.31146</td>\n",
       "      <td>157.064420</td>\n",
       "      <td>-4.069252</td>\n",
       "      <td>-340.630860</td>\n",
       "      <td>-57.550140</td>\n",
       "      <td>128.398220</td>\n",
       "      <td>45.090958</td>\n",
       "      <td>...</td>\n",
       "      <td>-71.927170</td>\n",
       "      <td>30.711966</td>\n",
       "      <td>-90.190475</td>\n",
       "      <td>-24.931271</td>\n",
       "      <td>66.972534</td>\n",
       "      <td>106.346634</td>\n",
       "      <td>-44.270622</td>\n",
       "      <td>155.98834</td>\n",
       "      <td>-1074.464888</td>\n",
       "      <td>-25.066608</td>\n",
       "    </tr>\n",
       "    <tr>\n",
       "      <th>2710972-base</th>\n",
       "      <td>-73.004890</td>\n",
       "      <td>4.923342</td>\n",
       "      <td>-19.750746</td>\n",
       "      <td>-136.52908</td>\n",
       "      <td>99.907170</td>\n",
       "      <td>-70.709110</td>\n",
       "      <td>-567.401996</td>\n",
       "      <td>-128.890150</td>\n",
       "      <td>109.914986</td>\n",
       "      <td>201.472200</td>\n",
       "      <td>...</td>\n",
       "      <td>-109.044660</td>\n",
       "      <td>20.916021</td>\n",
       "      <td>-171.201390</td>\n",
       "      <td>-110.596844</td>\n",
       "      <td>67.730100</td>\n",
       "      <td>8.909615</td>\n",
       "      <td>-9.470253</td>\n",
       "      <td>133.29536</td>\n",
       "      <td>-545.897014</td>\n",
       "      <td>-72.913230</td>\n",
       "    </tr>\n",
       "    <tr>\n",
       "      <th>1371460-base</th>\n",
       "      <td>-85.565570</td>\n",
       "      <td>-0.493598</td>\n",
       "      <td>-48.374817</td>\n",
       "      <td>-157.98502</td>\n",
       "      <td>96.809510</td>\n",
       "      <td>-81.710210</td>\n",
       "      <td>-22.297688</td>\n",
       "      <td>79.768670</td>\n",
       "      <td>124.357086</td>\n",
       "      <td>105.715180</td>\n",
       "      <td>...</td>\n",
       "      <td>-58.821650</td>\n",
       "      <td>41.369606</td>\n",
       "      <td>-132.934500</td>\n",
       "      <td>-43.016839</td>\n",
       "      <td>67.871925</td>\n",
       "      <td>141.778240</td>\n",
       "      <td>69.048520</td>\n",
       "      <td>111.72038</td>\n",
       "      <td>-1111.038833</td>\n",
       "      <td>-23.087206</td>\n",
       "    </tr>\n",
       "    <tr>\n",
       "      <th>3438601-base</th>\n",
       "      <td>-105.564090</td>\n",
       "      <td>15.393871</td>\n",
       "      <td>-46.223934</td>\n",
       "      <td>-158.11488</td>\n",
       "      <td>79.514114</td>\n",
       "      <td>-48.944480</td>\n",
       "      <td>-93.713010</td>\n",
       "      <td>38.581398</td>\n",
       "      <td>123.397960</td>\n",
       "      <td>110.324326</td>\n",
       "      <td>...</td>\n",
       "      <td>-87.907290</td>\n",
       "      <td>-58.806870</td>\n",
       "      <td>-147.794800</td>\n",
       "      <td>-155.830237</td>\n",
       "      <td>68.974754</td>\n",
       "      <td>21.397510</td>\n",
       "      <td>126.098785</td>\n",
       "      <td>139.73320</td>\n",
       "      <td>-1282.707248</td>\n",
       "      <td>-74.527940</td>\n",
       "    </tr>\n",
       "    <tr>\n",
       "      <th>422798-base</th>\n",
       "      <td>-74.638880</td>\n",
       "      <td>11.315012</td>\n",
       "      <td>-40.204174</td>\n",
       "      <td>-161.76430</td>\n",
       "      <td>50.507114</td>\n",
       "      <td>-80.775560</td>\n",
       "      <td>-640.923467</td>\n",
       "      <td>65.225000</td>\n",
       "      <td>122.344940</td>\n",
       "      <td>191.465850</td>\n",
       "      <td>...</td>\n",
       "      <td>-30.002094</td>\n",
       "      <td>53.642930</td>\n",
       "      <td>-149.823230</td>\n",
       "      <td>176.921371</td>\n",
       "      <td>69.473280</td>\n",
       "      <td>-43.395180</td>\n",
       "      <td>-58.947716</td>\n",
       "      <td>133.84064</td>\n",
       "      <td>-1074.464888</td>\n",
       "      <td>-1.164146</td>\n",
       "    </tr>\n",
       "  </tbody>\n",
       "</table>\n",
       "<p>5 rows × 72 columns</p>\n",
       "</div>\n",
       "    <div class=\"colab-df-buttons\">\n",
       "\n",
       "  <div class=\"colab-df-container\">\n",
       "    <button class=\"colab-df-convert\" onclick=\"convertToInteractive('df-99eff48c-16a9-427b-b4d8-380c2ecbb567')\"\n",
       "            title=\"Convert this dataframe to an interactive table.\"\n",
       "            style=\"display:none;\">\n",
       "\n",
       "  <svg xmlns=\"http://www.w3.org/2000/svg\" height=\"24px\" viewBox=\"0 -960 960 960\">\n",
       "    <path d=\"M120-120v-720h720v720H120Zm60-500h600v-160H180v160Zm220 220h160v-160H400v160Zm0 220h160v-160H400v160ZM180-400h160v-160H180v160Zm440 0h160v-160H620v160ZM180-180h160v-160H180v160Zm440 0h160v-160H620v160Z\"/>\n",
       "  </svg>\n",
       "    </button>\n",
       "\n",
       "  <style>\n",
       "    .colab-df-container {\n",
       "      display:flex;\n",
       "      gap: 12px;\n",
       "    }\n",
       "\n",
       "    .colab-df-convert {\n",
       "      background-color: #E8F0FE;\n",
       "      border: none;\n",
       "      border-radius: 50%;\n",
       "      cursor: pointer;\n",
       "      display: none;\n",
       "      fill: #1967D2;\n",
       "      height: 32px;\n",
       "      padding: 0 0 0 0;\n",
       "      width: 32px;\n",
       "    }\n",
       "\n",
       "    .colab-df-convert:hover {\n",
       "      background-color: #E2EBFA;\n",
       "      box-shadow: 0px 1px 2px rgba(60, 64, 67, 0.3), 0px 1px 3px 1px rgba(60, 64, 67, 0.15);\n",
       "      fill: #174EA6;\n",
       "    }\n",
       "\n",
       "    .colab-df-buttons div {\n",
       "      margin-bottom: 4px;\n",
       "    }\n",
       "\n",
       "    [theme=dark] .colab-df-convert {\n",
       "      background-color: #3B4455;\n",
       "      fill: #D2E3FC;\n",
       "    }\n",
       "\n",
       "    [theme=dark] .colab-df-convert:hover {\n",
       "      background-color: #434B5C;\n",
       "      box-shadow: 0px 1px 3px 1px rgba(0, 0, 0, 0.15);\n",
       "      filter: drop-shadow(0px 1px 2px rgba(0, 0, 0, 0.3));\n",
       "      fill: #FFFFFF;\n",
       "    }\n",
       "  </style>\n",
       "\n",
       "    <script>\n",
       "      const buttonEl =\n",
       "        document.querySelector('#df-99eff48c-16a9-427b-b4d8-380c2ecbb567 button.colab-df-convert');\n",
       "      buttonEl.style.display =\n",
       "        google.colab.kernel.accessAllowed ? 'block' : 'none';\n",
       "\n",
       "      async function convertToInteractive(key) {\n",
       "        const element = document.querySelector('#df-99eff48c-16a9-427b-b4d8-380c2ecbb567');\n",
       "        const dataTable =\n",
       "          await google.colab.kernel.invokeFunction('convertToInteractive',\n",
       "                                                    [key], {});\n",
       "        if (!dataTable) return;\n",
       "\n",
       "        const docLinkHtml = 'Like what you see? Visit the ' +\n",
       "          '<a target=\"_blank\" href=https://colab.research.google.com/notebooks/data_table.ipynb>data table notebook</a>'\n",
       "          + ' to learn more about interactive tables.';\n",
       "        element.innerHTML = '';\n",
       "        dataTable['output_type'] = 'display_data';\n",
       "        await google.colab.output.renderOutput(dataTable, element);\n",
       "        const docLink = document.createElement('div');\n",
       "        docLink.innerHTML = docLinkHtml;\n",
       "        element.appendChild(docLink);\n",
       "      }\n",
       "    </script>\n",
       "  </div>\n",
       "\n",
       "\n",
       "<div id=\"df-2fdd17f0-f211-43c4-98d8-01e7e45d0580\">\n",
       "  <button class=\"colab-df-quickchart\" onclick=\"quickchart('df-2fdd17f0-f211-43c4-98d8-01e7e45d0580')\"\n",
       "            title=\"Suggest charts\"\n",
       "            style=\"display:none;\">\n",
       "\n",
       "<svg xmlns=\"http://www.w3.org/2000/svg\" height=\"24px\"viewBox=\"0 0 24 24\"\n",
       "     width=\"24px\">\n",
       "    <g>\n",
       "        <path d=\"M19 3H5c-1.1 0-2 .9-2 2v14c0 1.1.9 2 2 2h14c1.1 0 2-.9 2-2V5c0-1.1-.9-2-2-2zM9 17H7v-7h2v7zm4 0h-2V7h2v10zm4 0h-2v-4h2v4z\"/>\n",
       "    </g>\n",
       "</svg>\n",
       "  </button>\n",
       "\n",
       "<style>\n",
       "  .colab-df-quickchart {\n",
       "      --bg-color: #E8F0FE;\n",
       "      --fill-color: #1967D2;\n",
       "      --hover-bg-color: #E2EBFA;\n",
       "      --hover-fill-color: #174EA6;\n",
       "      --disabled-fill-color: #AAA;\n",
       "      --disabled-bg-color: #DDD;\n",
       "  }\n",
       "\n",
       "  [theme=dark] .colab-df-quickchart {\n",
       "      --bg-color: #3B4455;\n",
       "      --fill-color: #D2E3FC;\n",
       "      --hover-bg-color: #434B5C;\n",
       "      --hover-fill-color: #FFFFFF;\n",
       "      --disabled-bg-color: #3B4455;\n",
       "      --disabled-fill-color: #666;\n",
       "  }\n",
       "\n",
       "  .colab-df-quickchart {\n",
       "    background-color: var(--bg-color);\n",
       "    border: none;\n",
       "    border-radius: 50%;\n",
       "    cursor: pointer;\n",
       "    display: none;\n",
       "    fill: var(--fill-color);\n",
       "    height: 32px;\n",
       "    padding: 0;\n",
       "    width: 32px;\n",
       "  }\n",
       "\n",
       "  .colab-df-quickchart:hover {\n",
       "    background-color: var(--hover-bg-color);\n",
       "    box-shadow: 0 1px 2px rgba(60, 64, 67, 0.3), 0 1px 3px 1px rgba(60, 64, 67, 0.15);\n",
       "    fill: var(--button-hover-fill-color);\n",
       "  }\n",
       "\n",
       "  .colab-df-quickchart-complete:disabled,\n",
       "  .colab-df-quickchart-complete:disabled:hover {\n",
       "    background-color: var(--disabled-bg-color);\n",
       "    fill: var(--disabled-fill-color);\n",
       "    box-shadow: none;\n",
       "  }\n",
       "\n",
       "  .colab-df-spinner {\n",
       "    border: 2px solid var(--fill-color);\n",
       "    border-color: transparent;\n",
       "    border-bottom-color: var(--fill-color);\n",
       "    animation:\n",
       "      spin 1s steps(1) infinite;\n",
       "  }\n",
       "\n",
       "  @keyframes spin {\n",
       "    0% {\n",
       "      border-color: transparent;\n",
       "      border-bottom-color: var(--fill-color);\n",
       "      border-left-color: var(--fill-color);\n",
       "    }\n",
       "    20% {\n",
       "      border-color: transparent;\n",
       "      border-left-color: var(--fill-color);\n",
       "      border-top-color: var(--fill-color);\n",
       "    }\n",
       "    30% {\n",
       "      border-color: transparent;\n",
       "      border-left-color: var(--fill-color);\n",
       "      border-top-color: var(--fill-color);\n",
       "      border-right-color: var(--fill-color);\n",
       "    }\n",
       "    40% {\n",
       "      border-color: transparent;\n",
       "      border-right-color: var(--fill-color);\n",
       "      border-top-color: var(--fill-color);\n",
       "    }\n",
       "    60% {\n",
       "      border-color: transparent;\n",
       "      border-right-color: var(--fill-color);\n",
       "    }\n",
       "    80% {\n",
       "      border-color: transparent;\n",
       "      border-right-color: var(--fill-color);\n",
       "      border-bottom-color: var(--fill-color);\n",
       "    }\n",
       "    90% {\n",
       "      border-color: transparent;\n",
       "      border-bottom-color: var(--fill-color);\n",
       "    }\n",
       "  }\n",
       "</style>\n",
       "\n",
       "  <script>\n",
       "    async function quickchart(key) {\n",
       "      const quickchartButtonEl =\n",
       "        document.querySelector('#' + key + ' button');\n",
       "      quickchartButtonEl.disabled = true;  // To prevent multiple clicks.\n",
       "      quickchartButtonEl.classList.add('colab-df-spinner');\n",
       "      try {\n",
       "        const charts = await google.colab.kernel.invokeFunction(\n",
       "            'suggestCharts', [key], {});\n",
       "      } catch (error) {\n",
       "        console.error('Error during call to suggestCharts:', error);\n",
       "      }\n",
       "      quickchartButtonEl.classList.remove('colab-df-spinner');\n",
       "      quickchartButtonEl.classList.add('colab-df-quickchart-complete');\n",
       "    }\n",
       "    (() => {\n",
       "      let quickchartButtonEl =\n",
       "        document.querySelector('#df-2fdd17f0-f211-43c4-98d8-01e7e45d0580 button');\n",
       "      quickchartButtonEl.style.display =\n",
       "        google.colab.kernel.accessAllowed ? 'block' : 'none';\n",
       "    })();\n",
       "  </script>\n",
       "</div>\n",
       "\n",
       "    </div>\n",
       "  </div>\n"
      ],
      "text/plain": [
       "                       0          1          2          3           4  \\\n",
       "Id                                                                      \n",
       "4207931-base  -43.946243  15.364378  17.515854 -132.31146  157.064420   \n",
       "2710972-base  -73.004890   4.923342 -19.750746 -136.52908   99.907170   \n",
       "1371460-base  -85.565570  -0.493598 -48.374817 -157.98502   96.809510   \n",
       "3438601-base -105.564090  15.393871 -46.223934 -158.11488   79.514114   \n",
       "422798-base   -74.638880  11.315012 -40.204174 -161.76430   50.507114   \n",
       "\n",
       "                      5           6           7           8           9  ...  \\\n",
       "Id                                                                       ...   \n",
       "4207931-base  -4.069252 -340.630860  -57.550140  128.398220   45.090958  ...   \n",
       "2710972-base -70.709110 -567.401996 -128.890150  109.914986  201.472200  ...   \n",
       "1371460-base -81.710210  -22.297688   79.768670  124.357086  105.715180  ...   \n",
       "3438601-base -48.944480  -93.713010   38.581398  123.397960  110.324326  ...   \n",
       "422798-base  -80.775560 -640.923467   65.225000  122.344940  191.465850  ...   \n",
       "\n",
       "                      62         63          64          65         66  \\\n",
       "Id                                                                       \n",
       "4207931-base  -71.927170  30.711966  -90.190475  -24.931271  66.972534   \n",
       "2710972-base -109.044660  20.916021 -171.201390 -110.596844  67.730100   \n",
       "1371460-base  -58.821650  41.369606 -132.934500  -43.016839  67.871925   \n",
       "3438601-base  -87.907290 -58.806870 -147.794800 -155.830237  68.974754   \n",
       "422798-base   -30.002094  53.642930 -149.823230  176.921371  69.473280   \n",
       "\n",
       "                      67          68         69           70         71  \n",
       "Id                                                                       \n",
       "4207931-base  106.346634  -44.270622  155.98834 -1074.464888 -25.066608  \n",
       "2710972-base    8.909615   -9.470253  133.29536  -545.897014 -72.913230  \n",
       "1371460-base  141.778240   69.048520  111.72038 -1111.038833 -23.087206  \n",
       "3438601-base   21.397510  126.098785  139.73320 -1282.707248 -74.527940  \n",
       "422798-base   -43.395180  -58.947716  133.84064 -1074.464888  -1.164146  \n",
       "\n",
       "[5 rows x 72 columns]"
      ]
     },
     "execution_count": 7,
     "metadata": {},
     "output_type": "execute_result"
    }
   ],
   "source": [
    "base.head()"
   ]
  },
  {
   "cell_type": "code",
   "execution_count": 9,
   "metadata": {
    "executionInfo": {
     "elapsed": 654,
     "status": "ok",
     "timestamp": 1715073835977,
     "user": {
      "displayName": "Fedor Konovalenko",
      "userId": "16758494924099257201"
     },
     "user_tz": -180
    },
    "id": "qA2AeGGiBNTz"
   },
   "outputs": [],
   "source": [
    "train = pd.read_csv(\"./train.csv\", index_col=\"Id\")"
   ]
  },
  {
   "cell_type": "code",
   "execution_count": 10,
   "metadata": {
    "colab": {
     "base_uri": "https://localhost:8080/",
     "height": 374
    },
    "executionInfo": {
     "elapsed": 8,
     "status": "ok",
     "timestamp": 1715073837698,
     "user": {
      "displayName": "Fedor Konovalenko",
      "userId": "16758494924099257201"
     },
     "user_tz": -180
    },
    "id": "LQ7q1MG3H0qf",
    "outputId": "71a62877-27c3-4aa0-8fd7-a832f555f6ab"
   },
   "outputs": [
    {
     "data": {
      "application/vnd.google.colaboratory.intrinsic+json": {
       "type": "dataframe",
       "variable_name": "train"
      },
      "text/html": [
       "\n",
       "  <div id=\"df-67a89d06-b873-43f8-b890-f88b985df94d\" class=\"colab-df-container\">\n",
       "    <div>\n",
       "<style scoped>\n",
       "    .dataframe tbody tr th:only-of-type {\n",
       "        vertical-align: middle;\n",
       "    }\n",
       "\n",
       "    .dataframe tbody tr th {\n",
       "        vertical-align: top;\n",
       "    }\n",
       "\n",
       "    .dataframe thead th {\n",
       "        text-align: right;\n",
       "    }\n",
       "</style>\n",
       "<table border=\"1\" class=\"dataframe\">\n",
       "  <thead>\n",
       "    <tr style=\"text-align: right;\">\n",
       "      <th></th>\n",
       "      <th>0</th>\n",
       "      <th>1</th>\n",
       "      <th>2</th>\n",
       "      <th>3</th>\n",
       "      <th>4</th>\n",
       "      <th>5</th>\n",
       "      <th>6</th>\n",
       "      <th>7</th>\n",
       "      <th>8</th>\n",
       "      <th>9</th>\n",
       "      <th>...</th>\n",
       "      <th>63</th>\n",
       "      <th>64</th>\n",
       "      <th>65</th>\n",
       "      <th>66</th>\n",
       "      <th>67</th>\n",
       "      <th>68</th>\n",
       "      <th>69</th>\n",
       "      <th>70</th>\n",
       "      <th>71</th>\n",
       "      <th>Target</th>\n",
       "    </tr>\n",
       "    <tr>\n",
       "      <th>Id</th>\n",
       "      <th></th>\n",
       "      <th></th>\n",
       "      <th></th>\n",
       "      <th></th>\n",
       "      <th></th>\n",
       "      <th></th>\n",
       "      <th></th>\n",
       "      <th></th>\n",
       "      <th></th>\n",
       "      <th></th>\n",
       "      <th></th>\n",
       "      <th></th>\n",
       "      <th></th>\n",
       "      <th></th>\n",
       "      <th></th>\n",
       "      <th></th>\n",
       "      <th></th>\n",
       "      <th></th>\n",
       "      <th></th>\n",
       "      <th></th>\n",
       "      <th></th>\n",
       "    </tr>\n",
       "  </thead>\n",
       "  <tbody>\n",
       "    <tr>\n",
       "      <th>109249-query</th>\n",
       "      <td>-24.021454</td>\n",
       "      <td>3.122524</td>\n",
       "      <td>-80.947525</td>\n",
       "      <td>-112.329994</td>\n",
       "      <td>191.090180</td>\n",
       "      <td>-66.903130</td>\n",
       "      <td>-759.626065</td>\n",
       "      <td>-75.284454</td>\n",
       "      <td>120.55149</td>\n",
       "      <td>131.131700</td>\n",
       "      <td>...</td>\n",
       "      <td>-24.601670</td>\n",
       "      <td>-167.760770</td>\n",
       "      <td>133.678516</td>\n",
       "      <td>68.184600</td>\n",
       "      <td>26.317545</td>\n",
       "      <td>11.938202</td>\n",
       "      <td>148.549320</td>\n",
       "      <td>-778.563381</td>\n",
       "      <td>-46.877750</td>\n",
       "      <td>66971-base</td>\n",
       "    </tr>\n",
       "    <tr>\n",
       "      <th>34137-query</th>\n",
       "      <td>-82.033580</td>\n",
       "      <td>8.115866</td>\n",
       "      <td>-8.793022</td>\n",
       "      <td>-182.972100</td>\n",
       "      <td>56.645336</td>\n",
       "      <td>-52.597610</td>\n",
       "      <td>-55.720337</td>\n",
       "      <td>130.059250</td>\n",
       "      <td>129.38335</td>\n",
       "      <td>76.202880</td>\n",
       "      <td>...</td>\n",
       "      <td>54.448433</td>\n",
       "      <td>-120.894806</td>\n",
       "      <td>-12.292085</td>\n",
       "      <td>66.608116</td>\n",
       "      <td>-27.997612</td>\n",
       "      <td>10.091335</td>\n",
       "      <td>95.809265</td>\n",
       "      <td>-1022.691531</td>\n",
       "      <td>-88.564705</td>\n",
       "      <td>1433819-base</td>\n",
       "    </tr>\n",
       "    <tr>\n",
       "      <th>136121-query</th>\n",
       "      <td>-75.719640</td>\n",
       "      <td>-0.223386</td>\n",
       "      <td>-86.186130</td>\n",
       "      <td>-162.064060</td>\n",
       "      <td>114.320114</td>\n",
       "      <td>-53.394600</td>\n",
       "      <td>-117.261013</td>\n",
       "      <td>-24.857851</td>\n",
       "      <td>124.80780</td>\n",
       "      <td>112.190155</td>\n",
       "      <td>...</td>\n",
       "      <td>-5.609123</td>\n",
       "      <td>-93.029880</td>\n",
       "      <td>-80.997871</td>\n",
       "      <td>63.733383</td>\n",
       "      <td>11.378683</td>\n",
       "      <td>62.932007</td>\n",
       "      <td>130.975390</td>\n",
       "      <td>-1074.464888</td>\n",
       "      <td>-74.861176</td>\n",
       "      <td>290133-base</td>\n",
       "    </tr>\n",
       "    <tr>\n",
       "      <th>105191-query</th>\n",
       "      <td>-56.580620</td>\n",
       "      <td>5.093593</td>\n",
       "      <td>-46.943110</td>\n",
       "      <td>-149.039120</td>\n",
       "      <td>112.436430</td>\n",
       "      <td>-76.820510</td>\n",
       "      <td>-324.995645</td>\n",
       "      <td>-32.833107</td>\n",
       "      <td>119.47865</td>\n",
       "      <td>120.074790</td>\n",
       "      <td>...</td>\n",
       "      <td>21.624313</td>\n",
       "      <td>-158.880370</td>\n",
       "      <td>179.597294</td>\n",
       "      <td>69.891360</td>\n",
       "      <td>-33.804955</td>\n",
       "      <td>233.914610</td>\n",
       "      <td>122.868546</td>\n",
       "      <td>-1074.464888</td>\n",
       "      <td>-93.775375</td>\n",
       "      <td>1270048-base</td>\n",
       "    </tr>\n",
       "    <tr>\n",
       "      <th>63983-query</th>\n",
       "      <td>-52.725650</td>\n",
       "      <td>9.027046</td>\n",
       "      <td>-92.829650</td>\n",
       "      <td>-113.111010</td>\n",
       "      <td>134.124970</td>\n",
       "      <td>-42.423073</td>\n",
       "      <td>-759.626065</td>\n",
       "      <td>8.261169</td>\n",
       "      <td>119.49023</td>\n",
       "      <td>172.365360</td>\n",
       "      <td>...</td>\n",
       "      <td>13.807772</td>\n",
       "      <td>-208.650040</td>\n",
       "      <td>41.742014</td>\n",
       "      <td>66.522420</td>\n",
       "      <td>41.362930</td>\n",
       "      <td>162.723050</td>\n",
       "      <td>111.261310</td>\n",
       "      <td>-151.162805</td>\n",
       "      <td>-33.831450</td>\n",
       "      <td>168591-base</td>\n",
       "    </tr>\n",
       "  </tbody>\n",
       "</table>\n",
       "<p>5 rows × 73 columns</p>\n",
       "</div>\n",
       "    <div class=\"colab-df-buttons\">\n",
       "\n",
       "  <div class=\"colab-df-container\">\n",
       "    <button class=\"colab-df-convert\" onclick=\"convertToInteractive('df-67a89d06-b873-43f8-b890-f88b985df94d')\"\n",
       "            title=\"Convert this dataframe to an interactive table.\"\n",
       "            style=\"display:none;\">\n",
       "\n",
       "  <svg xmlns=\"http://www.w3.org/2000/svg\" height=\"24px\" viewBox=\"0 -960 960 960\">\n",
       "    <path d=\"M120-120v-720h720v720H120Zm60-500h600v-160H180v160Zm220 220h160v-160H400v160Zm0 220h160v-160H400v160ZM180-400h160v-160H180v160Zm440 0h160v-160H620v160ZM180-180h160v-160H180v160Zm440 0h160v-160H620v160Z\"/>\n",
       "  </svg>\n",
       "    </button>\n",
       "\n",
       "  <style>\n",
       "    .colab-df-container {\n",
       "      display:flex;\n",
       "      gap: 12px;\n",
       "    }\n",
       "\n",
       "    .colab-df-convert {\n",
       "      background-color: #E8F0FE;\n",
       "      border: none;\n",
       "      border-radius: 50%;\n",
       "      cursor: pointer;\n",
       "      display: none;\n",
       "      fill: #1967D2;\n",
       "      height: 32px;\n",
       "      padding: 0 0 0 0;\n",
       "      width: 32px;\n",
       "    }\n",
       "\n",
       "    .colab-df-convert:hover {\n",
       "      background-color: #E2EBFA;\n",
       "      box-shadow: 0px 1px 2px rgba(60, 64, 67, 0.3), 0px 1px 3px 1px rgba(60, 64, 67, 0.15);\n",
       "      fill: #174EA6;\n",
       "    }\n",
       "\n",
       "    .colab-df-buttons div {\n",
       "      margin-bottom: 4px;\n",
       "    }\n",
       "\n",
       "    [theme=dark] .colab-df-convert {\n",
       "      background-color: #3B4455;\n",
       "      fill: #D2E3FC;\n",
       "    }\n",
       "\n",
       "    [theme=dark] .colab-df-convert:hover {\n",
       "      background-color: #434B5C;\n",
       "      box-shadow: 0px 1px 3px 1px rgba(0, 0, 0, 0.15);\n",
       "      filter: drop-shadow(0px 1px 2px rgba(0, 0, 0, 0.3));\n",
       "      fill: #FFFFFF;\n",
       "    }\n",
       "  </style>\n",
       "\n",
       "    <script>\n",
       "      const buttonEl =\n",
       "        document.querySelector('#df-67a89d06-b873-43f8-b890-f88b985df94d button.colab-df-convert');\n",
       "      buttonEl.style.display =\n",
       "        google.colab.kernel.accessAllowed ? 'block' : 'none';\n",
       "\n",
       "      async function convertToInteractive(key) {\n",
       "        const element = document.querySelector('#df-67a89d06-b873-43f8-b890-f88b985df94d');\n",
       "        const dataTable =\n",
       "          await google.colab.kernel.invokeFunction('convertToInteractive',\n",
       "                                                    [key], {});\n",
       "        if (!dataTable) return;\n",
       "\n",
       "        const docLinkHtml = 'Like what you see? Visit the ' +\n",
       "          '<a target=\"_blank\" href=https://colab.research.google.com/notebooks/data_table.ipynb>data table notebook</a>'\n",
       "          + ' to learn more about interactive tables.';\n",
       "        element.innerHTML = '';\n",
       "        dataTable['output_type'] = 'display_data';\n",
       "        await google.colab.output.renderOutput(dataTable, element);\n",
       "        const docLink = document.createElement('div');\n",
       "        docLink.innerHTML = docLinkHtml;\n",
       "        element.appendChild(docLink);\n",
       "      }\n",
       "    </script>\n",
       "  </div>\n",
       "\n",
       "\n",
       "<div id=\"df-a314db47-3fff-4973-982a-f06cbb21e106\">\n",
       "  <button class=\"colab-df-quickchart\" onclick=\"quickchart('df-a314db47-3fff-4973-982a-f06cbb21e106')\"\n",
       "            title=\"Suggest charts\"\n",
       "            style=\"display:none;\">\n",
       "\n",
       "<svg xmlns=\"http://www.w3.org/2000/svg\" height=\"24px\"viewBox=\"0 0 24 24\"\n",
       "     width=\"24px\">\n",
       "    <g>\n",
       "        <path d=\"M19 3H5c-1.1 0-2 .9-2 2v14c0 1.1.9 2 2 2h14c1.1 0 2-.9 2-2V5c0-1.1-.9-2-2-2zM9 17H7v-7h2v7zm4 0h-2V7h2v10zm4 0h-2v-4h2v4z\"/>\n",
       "    </g>\n",
       "</svg>\n",
       "  </button>\n",
       "\n",
       "<style>\n",
       "  .colab-df-quickchart {\n",
       "      --bg-color: #E8F0FE;\n",
       "      --fill-color: #1967D2;\n",
       "      --hover-bg-color: #E2EBFA;\n",
       "      --hover-fill-color: #174EA6;\n",
       "      --disabled-fill-color: #AAA;\n",
       "      --disabled-bg-color: #DDD;\n",
       "  }\n",
       "\n",
       "  [theme=dark] .colab-df-quickchart {\n",
       "      --bg-color: #3B4455;\n",
       "      --fill-color: #D2E3FC;\n",
       "      --hover-bg-color: #434B5C;\n",
       "      --hover-fill-color: #FFFFFF;\n",
       "      --disabled-bg-color: #3B4455;\n",
       "      --disabled-fill-color: #666;\n",
       "  }\n",
       "\n",
       "  .colab-df-quickchart {\n",
       "    background-color: var(--bg-color);\n",
       "    border: none;\n",
       "    border-radius: 50%;\n",
       "    cursor: pointer;\n",
       "    display: none;\n",
       "    fill: var(--fill-color);\n",
       "    height: 32px;\n",
       "    padding: 0;\n",
       "    width: 32px;\n",
       "  }\n",
       "\n",
       "  .colab-df-quickchart:hover {\n",
       "    background-color: var(--hover-bg-color);\n",
       "    box-shadow: 0 1px 2px rgba(60, 64, 67, 0.3), 0 1px 3px 1px rgba(60, 64, 67, 0.15);\n",
       "    fill: var(--button-hover-fill-color);\n",
       "  }\n",
       "\n",
       "  .colab-df-quickchart-complete:disabled,\n",
       "  .colab-df-quickchart-complete:disabled:hover {\n",
       "    background-color: var(--disabled-bg-color);\n",
       "    fill: var(--disabled-fill-color);\n",
       "    box-shadow: none;\n",
       "  }\n",
       "\n",
       "  .colab-df-spinner {\n",
       "    border: 2px solid var(--fill-color);\n",
       "    border-color: transparent;\n",
       "    border-bottom-color: var(--fill-color);\n",
       "    animation:\n",
       "      spin 1s steps(1) infinite;\n",
       "  }\n",
       "\n",
       "  @keyframes spin {\n",
       "    0% {\n",
       "      border-color: transparent;\n",
       "      border-bottom-color: var(--fill-color);\n",
       "      border-left-color: var(--fill-color);\n",
       "    }\n",
       "    20% {\n",
       "      border-color: transparent;\n",
       "      border-left-color: var(--fill-color);\n",
       "      border-top-color: var(--fill-color);\n",
       "    }\n",
       "    30% {\n",
       "      border-color: transparent;\n",
       "      border-left-color: var(--fill-color);\n",
       "      border-top-color: var(--fill-color);\n",
       "      border-right-color: var(--fill-color);\n",
       "    }\n",
       "    40% {\n",
       "      border-color: transparent;\n",
       "      border-right-color: var(--fill-color);\n",
       "      border-top-color: var(--fill-color);\n",
       "    }\n",
       "    60% {\n",
       "      border-color: transparent;\n",
       "      border-right-color: var(--fill-color);\n",
       "    }\n",
       "    80% {\n",
       "      border-color: transparent;\n",
       "      border-right-color: var(--fill-color);\n",
       "      border-bottom-color: var(--fill-color);\n",
       "    }\n",
       "    90% {\n",
       "      border-color: transparent;\n",
       "      border-bottom-color: var(--fill-color);\n",
       "    }\n",
       "  }\n",
       "</style>\n",
       "\n",
       "  <script>\n",
       "    async function quickchart(key) {\n",
       "      const quickchartButtonEl =\n",
       "        document.querySelector('#' + key + ' button');\n",
       "      quickchartButtonEl.disabled = true;  // To prevent multiple clicks.\n",
       "      quickchartButtonEl.classList.add('colab-df-spinner');\n",
       "      try {\n",
       "        const charts = await google.colab.kernel.invokeFunction(\n",
       "            'suggestCharts', [key], {});\n",
       "      } catch (error) {\n",
       "        console.error('Error during call to suggestCharts:', error);\n",
       "      }\n",
       "      quickchartButtonEl.classList.remove('colab-df-spinner');\n",
       "      quickchartButtonEl.classList.add('colab-df-quickchart-complete');\n",
       "    }\n",
       "    (() => {\n",
       "      let quickchartButtonEl =\n",
       "        document.querySelector('#df-a314db47-3fff-4973-982a-f06cbb21e106 button');\n",
       "      quickchartButtonEl.style.display =\n",
       "        google.colab.kernel.accessAllowed ? 'block' : 'none';\n",
       "    })();\n",
       "  </script>\n",
       "</div>\n",
       "\n",
       "    </div>\n",
       "  </div>\n"
      ],
      "text/plain": [
       "                      0         1          2           3           4  \\\n",
       "Id                                                                     \n",
       "109249-query -24.021454  3.122524 -80.947525 -112.329994  191.090180   \n",
       "34137-query  -82.033580  8.115866  -8.793022 -182.972100   56.645336   \n",
       "136121-query -75.719640 -0.223386 -86.186130 -162.064060  114.320114   \n",
       "105191-query -56.580620  5.093593 -46.943110 -149.039120  112.436430   \n",
       "63983-query  -52.725650  9.027046 -92.829650 -113.111010  134.124970   \n",
       "\n",
       "                      5           6           7          8           9  ...  \\\n",
       "Id                                                                      ...   \n",
       "109249-query -66.903130 -759.626065  -75.284454  120.55149  131.131700  ...   \n",
       "34137-query  -52.597610  -55.720337  130.059250  129.38335   76.202880  ...   \n",
       "136121-query -53.394600 -117.261013  -24.857851  124.80780  112.190155  ...   \n",
       "105191-query -76.820510 -324.995645  -32.833107  119.47865  120.074790  ...   \n",
       "63983-query  -42.423073 -759.626065    8.261169  119.49023  172.365360  ...   \n",
       "\n",
       "                     63          64          65         66         67  \\\n",
       "Id                                                                      \n",
       "109249-query -24.601670 -167.760770  133.678516  68.184600  26.317545   \n",
       "34137-query   54.448433 -120.894806  -12.292085  66.608116 -27.997612   \n",
       "136121-query  -5.609123  -93.029880  -80.997871  63.733383  11.378683   \n",
       "105191-query  21.624313 -158.880370  179.597294  69.891360 -33.804955   \n",
       "63983-query   13.807772 -208.650040   41.742014  66.522420  41.362930   \n",
       "\n",
       "                      68          69           70         71        Target  \n",
       "Id                                                                          \n",
       "109249-query   11.938202  148.549320  -778.563381 -46.877750    66971-base  \n",
       "34137-query    10.091335   95.809265 -1022.691531 -88.564705  1433819-base  \n",
       "136121-query   62.932007  130.975390 -1074.464888 -74.861176   290133-base  \n",
       "105191-query  233.914610  122.868546 -1074.464888 -93.775375  1270048-base  \n",
       "63983-query   162.723050  111.261310  -151.162805 -33.831450   168591-base  \n",
       "\n",
       "[5 rows x 73 columns]"
      ]
     },
     "execution_count": 10,
     "metadata": {},
     "output_type": "execute_result"
    }
   ],
   "source": [
    "train.head()"
   ]
  },
  {
   "cell_type": "code",
   "execution_count": 21,
   "metadata": {
    "colab": {
     "base_uri": "https://localhost:8080/",
     "height": 75
    },
    "executionInfo": {
     "elapsed": 1497,
     "status": "ok",
     "timestamp": 1715074100280,
     "user": {
      "displayName": "Fedor Konovalenko",
      "userId": "16758494924099257201"
     },
     "user_tz": -180
    },
    "id": "6v0-LIkj94ya",
    "outputId": "88ada672-831e-49f6-f6cd-62196fd6b415"
   },
   "outputs": [
    {
     "data": {
      "text/html": [
       "<style>#sk-container-id-1 {color: black;background-color: white;}#sk-container-id-1 pre{padding: 0;}#sk-container-id-1 div.sk-toggleable {background-color: white;}#sk-container-id-1 label.sk-toggleable__label {cursor: pointer;display: block;width: 100%;margin-bottom: 0;padding: 0.3em;box-sizing: border-box;text-align: center;}#sk-container-id-1 label.sk-toggleable__label-arrow:before {content: \"▸\";float: left;margin-right: 0.25em;color: #696969;}#sk-container-id-1 label.sk-toggleable__label-arrow:hover:before {color: black;}#sk-container-id-1 div.sk-estimator:hover label.sk-toggleable__label-arrow:before {color: black;}#sk-container-id-1 div.sk-toggleable__content {max-height: 0;max-width: 0;overflow: hidden;text-align: left;background-color: #f0f8ff;}#sk-container-id-1 div.sk-toggleable__content pre {margin: 0.2em;color: black;border-radius: 0.25em;background-color: #f0f8ff;}#sk-container-id-1 input.sk-toggleable__control:checked~div.sk-toggleable__content {max-height: 200px;max-width: 100%;overflow: auto;}#sk-container-id-1 input.sk-toggleable__control:checked~label.sk-toggleable__label-arrow:before {content: \"▾\";}#sk-container-id-1 div.sk-estimator input.sk-toggleable__control:checked~label.sk-toggleable__label {background-color: #d4ebff;}#sk-container-id-1 div.sk-label input.sk-toggleable__control:checked~label.sk-toggleable__label {background-color: #d4ebff;}#sk-container-id-1 input.sk-hidden--visually {border: 0;clip: rect(1px 1px 1px 1px);clip: rect(1px, 1px, 1px, 1px);height: 1px;margin: -1px;overflow: hidden;padding: 0;position: absolute;width: 1px;}#sk-container-id-1 div.sk-estimator {font-family: monospace;background-color: #f0f8ff;border: 1px dotted black;border-radius: 0.25em;box-sizing: border-box;margin-bottom: 0.5em;}#sk-container-id-1 div.sk-estimator:hover {background-color: #d4ebff;}#sk-container-id-1 div.sk-parallel-item::after {content: \"\";width: 100%;border-bottom: 1px solid gray;flex-grow: 1;}#sk-container-id-1 div.sk-label:hover label.sk-toggleable__label {background-color: #d4ebff;}#sk-container-id-1 div.sk-serial::before {content: \"\";position: absolute;border-left: 1px solid gray;box-sizing: border-box;top: 0;bottom: 0;left: 50%;z-index: 0;}#sk-container-id-1 div.sk-serial {display: flex;flex-direction: column;align-items: center;background-color: white;padding-right: 0.2em;padding-left: 0.2em;position: relative;}#sk-container-id-1 div.sk-item {position: relative;z-index: 1;}#sk-container-id-1 div.sk-parallel {display: flex;align-items: stretch;justify-content: center;background-color: white;position: relative;}#sk-container-id-1 div.sk-item::before, #sk-container-id-1 div.sk-parallel-item::before {content: \"\";position: absolute;border-left: 1px solid gray;box-sizing: border-box;top: 0;bottom: 0;left: 50%;z-index: -1;}#sk-container-id-1 div.sk-parallel-item {display: flex;flex-direction: column;z-index: 1;position: relative;background-color: white;}#sk-container-id-1 div.sk-parallel-item:first-child::after {align-self: flex-end;width: 50%;}#sk-container-id-1 div.sk-parallel-item:last-child::after {align-self: flex-start;width: 50%;}#sk-container-id-1 div.sk-parallel-item:only-child::after {width: 0;}#sk-container-id-1 div.sk-dashed-wrapped {border: 1px dashed gray;margin: 0 0.4em 0.5em 0.4em;box-sizing: border-box;padding-bottom: 0.4em;background-color: white;}#sk-container-id-1 div.sk-label label {font-family: monospace;font-weight: bold;display: inline-block;line-height: 1.2em;}#sk-container-id-1 div.sk-label-container {text-align: center;}#sk-container-id-1 div.sk-container {/* jupyter's `normalize.less` sets `[hidden] { display: none; }` but bootstrap.min.css set `[hidden] { display: none !important; }` so we also need the `!important` here to be able to override the default hidden behavior on the sphinx rendered scikit-learn.org. See: https://github.com/scikit-learn/scikit-learn/issues/21755 */display: inline-block !important;position: relative;}#sk-container-id-1 div.sk-text-repr-fallback {display: none;}</style><div id=\"sk-container-id-1\" class=\"sk-top-container\"><div class=\"sk-text-repr-fallback\"><pre>RobustScaler()</pre><b>In a Jupyter environment, please rerun this cell to show the HTML representation or trust the notebook. <br />On GitHub, the HTML representation is unable to render, please try loading this page with nbviewer.org.</b></div><div class=\"sk-container\" hidden><div class=\"sk-item\"><div class=\"sk-estimator sk-toggleable\"><input class=\"sk-toggleable__control sk-hidden--visually\" id=\"sk-estimator-id-1\" type=\"checkbox\" checked><label for=\"sk-estimator-id-1\" class=\"sk-toggleable__label sk-toggleable__label-arrow\">RobustScaler</label><div class=\"sk-toggleable__content\"><pre>RobustScaler()</pre></div></div></div></div></div>"
      ],
      "text/plain": [
       "RobustScaler()"
      ]
     },
     "execution_count": 21,
     "metadata": {},
     "output_type": "execute_result"
    }
   ],
   "source": [
    "scaler = RobustScaler()\n",
    "scaler.fit(base)"
   ]
  },
  {
   "cell_type": "markdown",
   "metadata": {
    "id": "wc1i5aPL6eVd"
   },
   "source": [
    "## 3. Бейзлайн"
   ]
  },
  {
   "cell_type": "code",
   "execution_count": 29,
   "metadata": {
    "executionInfo": {
     "elapsed": 677,
     "status": "ok",
     "timestamp": 1715074745359,
     "user": {
      "displayName": "Fedor Konovalenko",
      "userId": "16758494924099257201"
     },
     "user_tz": -180
    },
    "id": "6_O1npTPp33v"
   },
   "outputs": [],
   "source": [
    "base_scale = scaler.transform(base)"
   ]
  },
  {
   "cell_type": "code",
   "execution_count": 30,
   "metadata": {
    "colab": {
     "base_uri": "https://localhost:8080/",
     "height": 129
    },
    "executionInfo": {
     "elapsed": 65841,
     "status": "ok",
     "timestamp": 1715074814158,
     "user": {
      "displayName": "Fedor Konovalenko",
      "userId": "16758494924099257201"
     },
     "user_tz": -180
    },
    "id": "XqyRE1fe3rKp",
    "outputId": "aecc584a-90fa-43fe-e4ce-58dff4bc1e68"
   },
   "outputs": [
    {
     "name": "stderr",
     "output_type": "stream",
     "text": [
      "/usr/local/lib/python3.10/dist-packages/sklearn/cluster/_kmeans.py:870: FutureWarning: The default value of `n_init` will change from 10 to 'auto' in 1.4. Set the value of `n_init` explicitly to suppress the warning\n",
      "  warnings.warn(\n"
     ]
    },
    {
     "data": {
      "text/html": [
       "<style>#sk-container-id-2 {color: black;background-color: white;}#sk-container-id-2 pre{padding: 0;}#sk-container-id-2 div.sk-toggleable {background-color: white;}#sk-container-id-2 label.sk-toggleable__label {cursor: pointer;display: block;width: 100%;margin-bottom: 0;padding: 0.3em;box-sizing: border-box;text-align: center;}#sk-container-id-2 label.sk-toggleable__label-arrow:before {content: \"▸\";float: left;margin-right: 0.25em;color: #696969;}#sk-container-id-2 label.sk-toggleable__label-arrow:hover:before {color: black;}#sk-container-id-2 div.sk-estimator:hover label.sk-toggleable__label-arrow:before {color: black;}#sk-container-id-2 div.sk-toggleable__content {max-height: 0;max-width: 0;overflow: hidden;text-align: left;background-color: #f0f8ff;}#sk-container-id-2 div.sk-toggleable__content pre {margin: 0.2em;color: black;border-radius: 0.25em;background-color: #f0f8ff;}#sk-container-id-2 input.sk-toggleable__control:checked~div.sk-toggleable__content {max-height: 200px;max-width: 100%;overflow: auto;}#sk-container-id-2 input.sk-toggleable__control:checked~label.sk-toggleable__label-arrow:before {content: \"▾\";}#sk-container-id-2 div.sk-estimator input.sk-toggleable__control:checked~label.sk-toggleable__label {background-color: #d4ebff;}#sk-container-id-2 div.sk-label input.sk-toggleable__control:checked~label.sk-toggleable__label {background-color: #d4ebff;}#sk-container-id-2 input.sk-hidden--visually {border: 0;clip: rect(1px 1px 1px 1px);clip: rect(1px, 1px, 1px, 1px);height: 1px;margin: -1px;overflow: hidden;padding: 0;position: absolute;width: 1px;}#sk-container-id-2 div.sk-estimator {font-family: monospace;background-color: #f0f8ff;border: 1px dotted black;border-radius: 0.25em;box-sizing: border-box;margin-bottom: 0.5em;}#sk-container-id-2 div.sk-estimator:hover {background-color: #d4ebff;}#sk-container-id-2 div.sk-parallel-item::after {content: \"\";width: 100%;border-bottom: 1px solid gray;flex-grow: 1;}#sk-container-id-2 div.sk-label:hover label.sk-toggleable__label {background-color: #d4ebff;}#sk-container-id-2 div.sk-serial::before {content: \"\";position: absolute;border-left: 1px solid gray;box-sizing: border-box;top: 0;bottom: 0;left: 50%;z-index: 0;}#sk-container-id-2 div.sk-serial {display: flex;flex-direction: column;align-items: center;background-color: white;padding-right: 0.2em;padding-left: 0.2em;position: relative;}#sk-container-id-2 div.sk-item {position: relative;z-index: 1;}#sk-container-id-2 div.sk-parallel {display: flex;align-items: stretch;justify-content: center;background-color: white;position: relative;}#sk-container-id-2 div.sk-item::before, #sk-container-id-2 div.sk-parallel-item::before {content: \"\";position: absolute;border-left: 1px solid gray;box-sizing: border-box;top: 0;bottom: 0;left: 50%;z-index: -1;}#sk-container-id-2 div.sk-parallel-item {display: flex;flex-direction: column;z-index: 1;position: relative;background-color: white;}#sk-container-id-2 div.sk-parallel-item:first-child::after {align-self: flex-end;width: 50%;}#sk-container-id-2 div.sk-parallel-item:last-child::after {align-self: flex-start;width: 50%;}#sk-container-id-2 div.sk-parallel-item:only-child::after {width: 0;}#sk-container-id-2 div.sk-dashed-wrapped {border: 1px dashed gray;margin: 0 0.4em 0.5em 0.4em;box-sizing: border-box;padding-bottom: 0.4em;background-color: white;}#sk-container-id-2 div.sk-label label {font-family: monospace;font-weight: bold;display: inline-block;line-height: 1.2em;}#sk-container-id-2 div.sk-label-container {text-align: center;}#sk-container-id-2 div.sk-container {/* jupyter's `normalize.less` sets `[hidden] { display: none; }` but bootstrap.min.css set `[hidden] { display: none !important; }` so we also need the `!important` here to be able to override the default hidden behavior on the sphinx rendered scikit-learn.org. See: https://github.com/scikit-learn/scikit-learn/issues/21755 */display: inline-block !important;position: relative;}#sk-container-id-2 div.sk-text-repr-fallback {display: none;}</style><div id=\"sk-container-id-2\" class=\"sk-top-container\"><div class=\"sk-text-repr-fallback\"><pre>KMeans(n_clusters=10, random_state=0)</pre><b>In a Jupyter environment, please rerun this cell to show the HTML representation or trust the notebook. <br />On GitHub, the HTML representation is unable to render, please try loading this page with nbviewer.org.</b></div><div class=\"sk-container\" hidden><div class=\"sk-item\"><div class=\"sk-estimator sk-toggleable\"><input class=\"sk-toggleable__control sk-hidden--visually\" id=\"sk-estimator-id-2\" type=\"checkbox\" checked><label for=\"sk-estimator-id-2\" class=\"sk-toggleable__label sk-toggleable__label-arrow\">KMeans</label><div class=\"sk-toggleable__content\"><pre>KMeans(n_clusters=10, random_state=0)</pre></div></div></div></div></div>"
      ],
      "text/plain": [
       "KMeans(n_clusters=10, random_state=0)"
      ]
     },
     "execution_count": 30,
     "metadata": {},
     "output_type": "execute_result"
    }
   ],
   "source": [
    "kmeans = KMeans(n_clusters=10, init=\"k-means++\", max_iter=300, random_state=0)\n",
    "kmeans.fit(base_scale)"
   ]
  },
  {
   "cell_type": "code",
   "execution_count": 31,
   "metadata": {
    "executionInfo": {
     "elapsed": 3,
     "status": "ok",
     "timestamp": 1715074817991,
     "user": {
      "displayName": "Fedor Konovalenko",
      "userId": "16758494924099257201"
     },
     "user_tz": -180
    },
    "id": "Em5VvpxMuxvk"
   },
   "outputs": [],
   "source": [
    "X = train.drop(\"Target\", axis=1)\n",
    "X_normalize = scaler.transform(X)"
   ]
  },
  {
   "cell_type": "code",
   "execution_count": 32,
   "metadata": {
    "executionInfo": {
     "elapsed": 3,
     "status": "ok",
     "timestamp": 1715074819847,
     "user": {
      "displayName": "Fedor Konovalenko",
      "userId": "16758494924099257201"
     },
     "user_tz": -180
    },
    "id": "VzhvPh6Vh6AL"
   },
   "outputs": [],
   "source": [
    "def top_func(data_norm, data, base_data):\n",
    "\n",
    "  train_cluster_pred = kmeans.predict(data_norm)\n",
    "\n",
    "  index_mapping = {i: idx for i, idx in enumerate(base.index)}\n",
    "\n",
    "  cluster_index = {cluster: np.where(kmeans.labels_ == cluster)[0] for cluster in np.unique(kmeans.labels_)}\n",
    "\n",
    "  accuracy = 0\n",
    "  for cluster in tqdm(np.unique(train_cluster_pred), desc=\"Processing clusters\"):\n",
    "      base_cluster_index = cluster_index[cluster]\n",
    "      base_cluster = base_data[base_cluster_index]\n",
    "      train_cluster = data_norm[train_cluster_pred == cluster]\n",
    "      true_labels_cluster = data[train_cluster_pred == cluster]['Target']\n",
    "\n",
    "      neighbors = NearestNeighbors(n_neighbors=5)\n",
    "      neighbors.fit(base_cluster)\n",
    "\n",
    "      _, index = neighbors.kneighbors(train_cluster)\n",
    "\n",
    "      for target, idx in zip(true_labels_cluster.values.tolist(), index):\n",
    "          text_index = [index_mapping[base_cluster_index[i]] for i in idx]\n",
    "          accuracy += int(target in text_index)\n",
    "\n",
    "  general_accuracy = 100 * accuracy / len(train)\n",
    "  print(f\"Total Accuracy: {general_accuracy:.2f}%\")\n"
   ]
  },
  {
   "cell_type": "code",
   "execution_count": 33,
   "metadata": {
    "colab": {
     "base_uri": "https://localhost:8080/"
    },
    "executionInfo": {
     "elapsed": 19750,
     "status": "ok",
     "timestamp": 1715074841154,
     "user": {
      "displayName": "Fedor Konovalenko",
      "userId": "16758494924099257201"
     },
     "user_tz": -180
    },
    "id": "0h_Hn0NYLhPu",
    "outputId": "23046f56-16a5-434d-d94b-51899c8c5424"
   },
   "outputs": [
    {
     "name": "stderr",
     "output_type": "stream",
     "text": [
      "Processing clusters: 100%|██████████| 10/10 [00:19<00:00,  1.96s/it]"
     ]
    },
    {
     "name": "stdout",
     "output_type": "stream",
     "text": [
      "Total Accuracy: 60.80%\n"
     ]
    },
    {
     "name": "stderr",
     "output_type": "stream",
     "text": [
      "\n"
     ]
    }
   ],
   "source": [
    "top_func(X_normalize, train, base_scale)"
   ]
  },
  {
   "cell_type": "markdown",
   "metadata": {
    "id": "UuFNYu6oVDRT"
   },
   "source": [
    "## 4. FAISS"
   ]
  },
  {
   "cell_type": "markdown",
   "metadata": {
    "id": "snbGzaQs1X1-"
   },
   "source": [
    "Faiss - это инструмент, разработанный Facebook для быстрого поиска ближайших соседей в больших наборах данных.\n",
    "\n",
    "Использование Faiss включает:\n",
    "- подготовку данных  \n",
    "- создание специального \"индекса\" для поиска  \n",
    "- поиск ближайших соседей"
   ]
  },
  {
   "cell_type": "code",
   "execution_count": 39,
   "metadata": {
    "executionInfo": {
     "elapsed": 438,
     "status": "ok",
     "timestamp": 1715075081019,
     "user": {
      "displayName": "Fedor Konovalenko",
      "userId": "16758494924099257201"
     },
     "user_tz": -180
    },
    "id": "6T08VjR61X1-"
   },
   "outputs": [],
   "source": [
    "sample_ = train.sample(n=1_000, random_state=0)\n",
    "sample_x = sample_.drop(\"Target\", axis=1)\n",
    "sample_x_normalize = scaler.transform(sample_x)\n",
    "\n",
    "base_data = base_scale.astype(np.float32)\n",
    "train_data = sample_x_normalize.astype(np.float32)\n",
    "train_labels = sample_['Target']"
   ]
  },
  {
   "cell_type": "code",
   "execution_count": 40,
   "metadata": {
    "executionInfo": {
     "elapsed": 402,
     "status": "ok",
     "timestamp": 1715075097101,
     "user": {
      "displayName": "Fedor Konovalenko",
      "userId": "16758494924099257201"
     },
     "user_tz": -180
    },
    "id": "KtbUNA1a1X1-"
   },
   "outputs": [],
   "source": [
    "def index_func(data,\n",
    "               n_clusters=None,\n",
    "               use_pca=False,\n",
    "               pca_dimensions=None,\n",
    "               metric=faiss.METRIC_L2):\n",
    "    d = data.shape[1]\n",
    "\n",
    "    if use_pca and pca_dimensions:\n",
    "        pca_matrix = faiss.PCAMatrix(d, pca_dimensions, eigen_power=-0.5)\n",
    "        pca_matrix.train(data)\n",
    "        data = pca_matrix.apply_py(data)\n",
    "        d = pca_dimensions\n",
    "\n",
    "    if n_clusters:\n",
    "        quantizer = faiss.IndexFlatL2(d)\n",
    "        index = faiss.IndexIVFFlat(quantizer, d, n_clusters, metric)\n",
    "        index.train(data)\n",
    "    else:\n",
    "        index = faiss.IndexFlatL2(d)\n",
    "\n",
    "    index.add(data)\n",
    "    return index, (pca_matrix if use_pca and pca_dimensions else None)"
   ]
  },
  {
   "cell_type": "code",
   "execution_count": 41,
   "metadata": {
    "executionInfo": {
     "elapsed": 4,
     "status": "ok",
     "timestamp": 1715075101202,
     "user": {
      "displayName": "Fedor Konovalenko",
      "userId": "16758494924099257201"
     },
     "user_tz": -180
    },
    "id": "BtLJSS241X1_"
   },
   "outputs": [],
   "source": [
    "def search_func(index, query_data, k=5, pca_matrix=None):\n",
    "    start_time = time.time()\n",
    "    if pca_matrix:\n",
    "        query_data = pca_matrix.apply_py(query_data)\n",
    "    distances, indices = index.search(query_data, k)\n",
    "    print(f\"Поиск занял {time.time() - start_time:.2f} секунд\")\n",
    "    return distances, indices"
   ]
  },
  {
   "cell_type": "code",
   "execution_count": 42,
   "metadata": {
    "executionInfo": {
     "elapsed": 399,
     "status": "ok",
     "timestamp": 1715075105480,
     "user": {
      "displayName": "Fedor Konovalenko",
      "userId": "16758494924099257201"
     },
     "user_tz": -180
    },
    "id": "Lfb_CCh_1X1_"
   },
   "outputs": [],
   "source": [
    "def accuracy_func(indices, train_labels, index_to_label):\n",
    "    matches = sum(label in [index_to_label[idx] for idx in neighbors] for label, neighbors in zip(train_labels, indices))\n",
    "    accuracy = 100 * matches / len(train_labels)\n",
    "    return accuracy"
   ]
  },
  {
   "cell_type": "code",
   "execution_count": 43,
   "metadata": {
    "executionInfo": {
     "elapsed": 799,
     "status": "ok",
     "timestamp": 1715075110919,
     "user": {
      "displayName": "Fedor Konovalenko",
      "userId": "16758494924099257201"
     },
     "user_tz": -180
    },
    "id": "JKAbT9hT1X1_"
   },
   "outputs": [],
   "source": [
    "def match_func(base_data, train_data, train_labels,\n",
    "                     n_clusters=None,\n",
    "                     use_pca=False,\n",
    "                     pca_dimensions=None,\n",
    "                     k=5, nprobe=2,\n",
    "                     metric=faiss.METRIC_L2):\n",
    "\n",
    "    index, pca_matrix = index_func(base_data,\n",
    "                                   n_clusters=n_clusters,\n",
    "                                   use_pca=use_pca,\n",
    "                                   pca_dimensions=pca_dimensions,\n",
    "                                   metric=metric)\n",
    "\n",
    "    index.nprobe = nprobe\n",
    "\n",
    "    _, indices = search_func(index, train_data, k=k, pca_matrix=pca_matrix)\n",
    "\n",
    "    index_to_label = {idx: label for idx, label in enumerate(base.index)}\n",
    "\n",
    "    accuracy = accuracy_func(indices, train_labels, index_to_label)\n",
    "    return accuracy\n"
   ]
  },
  {
   "cell_type": "code",
   "execution_count": 44,
   "metadata": {
    "colab": {
     "base_uri": "https://localhost:8080/"
    },
    "executionInfo": {
     "elapsed": 97695,
     "status": "ok",
     "timestamp": 1715075210565,
     "user": {
      "displayName": "Fedor Konovalenko",
      "userId": "16758494924099257201"
     },
     "user_tz": -180
    },
    "id": "IGsnXr7-1X1_",
    "outputId": "6b02ebc4-2684-4695-ccd4-911cb001e6ec"
   },
   "outputs": [
    {
     "name": "stderr",
     "output_type": "stream",
     "text": [
      "[I 2024-05-07 09:45:12,446] A new study created in memory with name: no-name-84a2102d-75cc-4fa5-aba9-c41afb6546ec\n",
      "[I 2024-05-07 09:45:14,251] Trial 0 finished with value: 73.5 and parameters: {'n_clusters': 150, 'pca_dimensions_option': True, 'pca_dimensions': 53, 'nprobe': 9}. Best is trial 0 with value: 73.5.\n"
     ]
    },
    {
     "name": "stdout",
     "output_type": "stream",
     "text": [
      "Поиск занял 0.60 секунд\n"
     ]
    },
    {
     "name": "stderr",
     "output_type": "stream",
     "text": [
      "[I 2024-05-07 09:45:15,334] Trial 1 finished with value: 63.0 and parameters: {'n_clusters': 130, 'pca_dimensions_option': True, 'pca_dimensions': 31, 'nprobe': 5}. Best is trial 0 with value: 73.5.\n"
     ]
    },
    {
     "name": "stdout",
     "output_type": "stream",
     "text": [
      "Поиск занял 0.27 секунд\n"
     ]
    },
    {
     "name": "stderr",
     "output_type": "stream",
     "text": [
      "[I 2024-05-07 09:45:17,268] Trial 2 finished with value: 75.0 and parameters: {'n_clusters': 80, 'pca_dimensions_option': True, 'pca_dimensions': 62, 'nprobe': 7}. Best is trial 2 with value: 75.0.\n"
     ]
    },
    {
     "name": "stdout",
     "output_type": "stream",
     "text": [
      "Поиск занял 1.06 секунд\n",
      "Поиск занял 0.33 секунд\n"
     ]
    },
    {
     "name": "stderr",
     "output_type": "stream",
     "text": [
      "[I 2024-05-07 09:45:25,077] Trial 3 finished with value: 58.5 and parameters: {'n_clusters': 430, 'pca_dimensions_option': False, 'nprobe': 9}. Best is trial 2 with value: 75.0.\n",
      "[I 2024-05-07 09:45:27,530] Trial 4 finished with value: 58.2 and parameters: {'n_clusters': 70, 'pca_dimensions_option': False, 'nprobe': 4}. Best is trial 2 with value: 75.0.\n"
     ]
    },
    {
     "name": "stdout",
     "output_type": "stream",
     "text": [
      "Поиск занял 1.16 секунд\n",
      "Поиск занял 0.14 секунд\n"
     ]
    },
    {
     "name": "stderr",
     "output_type": "stream",
     "text": [
      "[I 2024-05-07 09:45:35,551] Trial 5 finished with value: 60.0 and parameters: {'n_clusters': 470, 'pca_dimensions_option': True, 'pca_dimensions': 34, 'nprobe': 3}. Best is trial 2 with value: 75.0.\n"
     ]
    },
    {
     "name": "stdout",
     "output_type": "stream",
     "text": [
      "Поиск занял 0.30 секунд\n"
     ]
    },
    {
     "name": "stderr",
     "output_type": "stream",
     "text": [
      "[I 2024-05-07 09:45:44,381] Trial 6 finished with value: 58.3 and parameters: {'n_clusters': 390, 'pca_dimensions_option': False, 'nprobe': 6}. Best is trial 2 with value: 75.0.\n",
      "[I 2024-05-07 09:45:46,983] Trial 7 finished with value: 71.0 and parameters: {'n_clusters': 260, 'pca_dimensions_option': True, 'pca_dimensions': 47, 'nprobe': 5}. Best is trial 2 with value: 75.0.\n"
     ]
    },
    {
     "name": "stdout",
     "output_type": "stream",
     "text": [
      "Поиск занял 0.19 секунд\n",
      "Поиск занял 2.18 секунд\n"
     ]
    },
    {
     "name": "stderr",
     "output_type": "stream",
     "text": [
      "[I 2024-05-07 09:45:50,759] Trial 8 finished with value: 58.3 and parameters: {'n_clusters': 80, 'pca_dimensions_option': False, 'nprobe': 7}. Best is trial 2 with value: 75.0.\n"
     ]
    },
    {
     "name": "stdout",
     "output_type": "stream",
     "text": [
      "Поиск занял 0.28 секунд\n"
     ]
    },
    {
     "name": "stderr",
     "output_type": "stream",
     "text": [
      "[I 2024-05-07 09:46:00,405] Trial 9 finished with value: 64.6 and parameters: {'n_clusters': 370, 'pca_dimensions_option': True, 'pca_dimensions': 34, 'nprobe': 8}. Best is trial 2 with value: 75.0.\n",
      "[I 2024-05-07 09:46:04,556] Trial 10 finished with value: 64.5 and parameters: {'n_clusters': 10, 'pca_dimensions_option': True, 'pca_dimensions': 67, 'nprobe': 1}. Best is trial 2 with value: 75.0.\n"
     ]
    },
    {
     "name": "stdout",
     "output_type": "stream",
     "text": [
      "Поиск занял 2.10 секунд\n"
     ]
    },
    {
     "name": "stderr",
     "output_type": "stream",
     "text": [
      "[I 2024-05-07 09:46:09,478] Trial 11 finished with value: 75.6 and parameters: {'n_clusters': 200, 'pca_dimensions_option': True, 'pca_dimensions': 62, 'nprobe': 10}. Best is trial 11 with value: 75.6.\n"
     ]
    },
    {
     "name": "stdout",
     "output_type": "stream",
     "text": [
      "Поиск занял 1.12 секунд\n"
     ]
    },
    {
     "name": "stderr",
     "output_type": "stream",
     "text": [
      "[I 2024-05-07 09:46:12,581] Trial 12 finished with value: 74.9 and parameters: {'n_clusters': 260, 'pca_dimensions_option': True, 'pca_dimensions': 68, 'nprobe': 10}. Best is trial 11 with value: 75.6.\n"
     ]
    },
    {
     "name": "stdout",
     "output_type": "stream",
     "text": [
      "Поиск занял 0.46 секунд\n"
     ]
    },
    {
     "name": "stderr",
     "output_type": "stream",
     "text": [
      "[I 2024-05-07 09:46:14,462] Trial 13 finished with value: 75.0 and parameters: {'n_clusters': 160, 'pca_dimensions_option': True, 'pca_dimensions': 57, 'nprobe': 10}. Best is trial 11 with value: 75.6.\n"
     ]
    },
    {
     "name": "stdout",
     "output_type": "stream",
     "text": [
      "Поиск занял 0.69 секунд\n"
     ]
    },
    {
     "name": "stderr",
     "output_type": "stream",
     "text": [
      "[I 2024-05-07 09:46:16,462] Trial 14 finished with value: 73.9 and parameters: {'n_clusters': 200, 'pca_dimensions_option': True, 'pca_dimensions': 61, 'nprobe': 7}. Best is trial 11 with value: 75.6.\n"
     ]
    },
    {
     "name": "stdout",
     "output_type": "stream",
     "text": [
      "Поиск занял 0.40 секунд\n"
     ]
    },
    {
     "name": "stderr",
     "output_type": "stream",
     "text": [
      "[I 2024-05-07 09:46:18,959] Trial 15 finished with value: 70.3 and parameters: {'n_clusters': 310, 'pca_dimensions_option': True, 'pca_dimensions': 45, 'nprobe': 8}. Best is trial 11 with value: 75.6.\n"
     ]
    },
    {
     "name": "stdout",
     "output_type": "stream",
     "text": [
      "Поиск занял 0.21 секунд\n",
      "Поиск занял 6.97 секунд\n"
     ]
    },
    {
     "name": "stderr",
     "output_type": "stream",
     "text": [
      "[I 2024-05-07 09:46:26,817] Trial 16 finished with value: 76.4 and parameters: {'n_clusters': 20, 'pca_dimensions_option': True, 'pca_dimensions': 62, 'nprobe': 7}. Best is trial 16 with value: 76.4.\n",
      "[I 2024-05-07 09:46:32,516] Trial 17 finished with value: 69.1 and parameters: {'n_clusters': 10, 'pca_dimensions_option': True, 'pca_dimensions': 70, 'nprobe': 2}. Best is trial 16 with value: 76.4.\n"
     ]
    },
    {
     "name": "stdout",
     "output_type": "stream",
     "text": [
      "Поиск занял 3.31 секунд\n"
     ]
    },
    {
     "name": "stderr",
     "output_type": "stream",
     "text": [
      "[I 2024-05-07 09:46:34,844] Trial 18 finished with value: 58.8 and parameters: {'n_clusters': 220, 'pca_dimensions_option': False, 'nprobe': 9}. Best is trial 16 with value: 76.4.\n"
     ]
    },
    {
     "name": "stdout",
     "output_type": "stream",
     "text": [
      "Поиск занял 0.61 секунд\n"
     ]
    },
    {
     "name": "stderr",
     "output_type": "stream",
     "text": [
      "[I 2024-05-07 09:46:37,618] Trial 19 finished with value: 71.7 and parameters: {'n_clusters': 320, 'pca_dimensions_option': True, 'pca_dimensions': 52, 'nprobe': 6}. Best is trial 16 with value: 76.4.\n"
     ]
    },
    {
     "name": "stdout",
     "output_type": "stream",
     "text": [
      "Поиск занял 0.19 секунд\n"
     ]
    },
    {
     "name": "stderr",
     "output_type": "stream",
     "text": [
      "[I 2024-05-07 09:46:39,510] Trial 20 finished with value: 71.0 and parameters: {'n_clusters': 110, 'pca_dimensions_option': True, 'pca_dimensions': 40, 'nprobe': 10}. Best is trial 16 with value: 76.4.\n"
     ]
    },
    {
     "name": "stdout",
     "output_type": "stream",
     "text": [
      "Поиск занял 0.98 секунд\n"
     ]
    },
    {
     "name": "stderr",
     "output_type": "stream",
     "text": [
      "[I 2024-05-07 09:46:44,079] Trial 21 finished with value: 74.8 and parameters: {'n_clusters': 50, 'pca_dimensions_option': True, 'pca_dimensions': 62, 'nprobe': 7}. Best is trial 16 with value: 76.4.\n"
     ]
    },
    {
     "name": "stdout",
     "output_type": "stream",
     "text": [
      "Поиск занял 3.12 секунд\n"
     ]
    },
    {
     "name": "stderr",
     "output_type": "stream",
     "text": [
      "[I 2024-05-07 09:46:46,258] Trial 22 finished with value: 74.5 and parameters: {'n_clusters': 190, 'pca_dimensions_option': True, 'pca_dimensions': 63, 'nprobe': 8}. Best is trial 16 with value: 76.4.\n"
     ]
    },
    {
     "name": "stdout",
     "output_type": "stream",
     "text": [
      "Поиск занял 0.57 секунд\n"
     ]
    },
    {
     "name": "stderr",
     "output_type": "stream",
     "text": [
      "[I 2024-05-07 09:46:47,573] Trial 23 finished with value: 72.0 and parameters: {'n_clusters': 100, 'pca_dimensions_option': True, 'pca_dimensions': 55, 'nprobe': 4}. Best is trial 16 with value: 76.4.\n"
     ]
    },
    {
     "name": "stdout",
     "output_type": "stream",
     "text": [
      "Поиск занял 0.45 секунд\n"
     ]
    },
    {
     "name": "stderr",
     "output_type": "stream",
     "text": [
      "[I 2024-05-07 09:46:49,976] Trial 24 finished with value: 74.2 and parameters: {'n_clusters': 40, 'pca_dimensions_option': True, 'pca_dimensions': 59, 'nprobe': 6}. Best is trial 16 with value: 76.4.\n"
     ]
    },
    {
     "name": "stdout",
     "output_type": "stream",
     "text": [
      "Поиск занял 1.69 секунд\n",
      "Лучшая метрика: 76.4\n",
      "Лучшие параметры: {'n_clusters': 20, 'pca_dimensions_option': True, 'pca_dimensions': 62, 'nprobe': 7}\n"
     ]
    }
   ],
   "source": [
    "def params_func(trial):\n",
    "\n",
    "    n_clusters = trial.suggest_int('n_clusters', 10, 500, step=10)\n",
    "\n",
    "    pca_dimensions_option = trial.suggest_categorical('pca_dimensions_option', [True, False])\n",
    "    pca_dimensions = trial.suggest_int('pca_dimensions', 27, 70) if pca_dimensions_option else None\n",
    "\n",
    "    nprobe = trial.suggest_int('nprobe', 1, 10)\n",
    "\n",
    "    base_data_c = np.ascontiguousarray(base_data)\n",
    "    train_data_c = np.ascontiguousarray(train_data)\n",
    "\n",
    "    accuracy = match_func(base_data_c, train_data_c, train_labels,\n",
    "                          n_clusters=n_clusters,\n",
    "                          use_pca=pca_dimensions_option,\n",
    "                          pca_dimensions=pca_dimensions,\n",
    "                          k=5, nprobe=nprobe)\n",
    "    return accuracy\n",
    "\n",
    "study = optuna.create_study(direction='maximize')\n",
    "study.optimize(params_func, n_trials= 25)\n",
    "\n",
    "print(\"Лучшая метрика:\", study.best_value)\n",
    "print(\"Лучшие параметры:\", study.best_params)"
   ]
  },
  {
   "cell_type": "markdown",
   "metadata": {},
   "source": [
    "Лучшая метрика: 76.4\\\n",
    "Лучшие параметры: {'n_clusters': 20, 'pca_dimensions_option': True, 'pca_dimensions': 62, 'nprobe': 7}"
   ]
  }
 ],
 "metadata": {
  "colab": {
   "provenance": []
  },
  "kernelspec": {
   "display_name": "Python 3 (ipykernel)",
   "language": "python",
   "name": "python3"
  },
  "language_info": {
   "codemirror_mode": {
    "name": "ipython",
    "version": 3
   },
   "file_extension": ".py",
   "mimetype": "text/x-python",
   "name": "python",
   "nbconvert_exporter": "python",
   "pygments_lexer": "ipython3",
   "version": "3.10.12"
  }
 },
 "nbformat": 4,
 "nbformat_minor": 4
}
